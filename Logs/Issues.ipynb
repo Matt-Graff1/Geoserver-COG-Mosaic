{
 "cells": [
  {
   "cell_type": "markdown",
   "metadata": {},
   "source": [
    "## Issues when supplying a prototype granule"
   ]
  },
  {
   "cell_type": "markdown",
   "metadata": {},
   "source": [
    "encountering 500 (error) : Caused by: java.io.IOException: Schema 'modisvi' does not exist.\n",
    "* Fixed by creating a table inside the PostGIS db of the name of modisvi...\n",
    "```\n",
    "CREATE TABLE public.modisvi (\n",
    "    id SERIAL PRIMARY KEY,\n",
    "    the_geom GEOMETRY(Polygon, 4326),\n",
    "    location VARCHAR,\n",
    "    time TIMESTAMP\n",
    ");\n",
    "```"
   ]
  },
  {
   "cell_type": "markdown",
   "metadata": {},
   "source": [
    "Suspicious lines of the logs when adding a prototype granule:\n",
    "```\n",
    "30 Jul. 12:22:55 INFO   [gce.imagemosaic] - Required key Levels not found.\n",
    "```\n",
    "* Levels shouldn't be needed here\n",
    "\n",
    "```\n",
    "30 Jul. 12:22:56 DEBUG  [gce.imagemosaic] - Skipping invalid mosaic index table mod\n",
    "```\n",
    "* **The most suspicious...**\n",
    "```\n",
    "30 Jul. 12:22:58 DEBUG  [referencing.factory] - Failure in the primary factory: No code \"EPSG:4326\" from authority \"European Petroleum Survey Group\" found for object of type \"interface org.geotools.api.referencing.IdentifiedObject\". Now trying the fallback factory...\n",
    "```\n",
    "* Also suspicious...\n",
    "```\n",
    "30 Jul. 12:23:01 WARN   [gce.imagemosaic] - Unable to find sample image for path C:\\GeoServer\\data_dir\\data\\test\\mod\\sample_image\n",
    "```\n",
    "* Probably just an error that a sample image was supposed to created automatically, but wasn't"
   ]
  },
  {
   "cell_type": "markdown",
   "metadata": {},
   "source": [
    "# Debugging PostgreSQL"
   ]
  },
  {
   "cell_type": "code",
   "execution_count": null,
   "metadata": {
    "vscode": {
     "languageId": "plaintext"
    }
   },
   "outputs": [],
   "source": [
    "SELECT pid,\n",
    "       usename,\n",
    "       datname,\n",
    "       query,\n",
    "       state,\n",
    "       backend_start,\n",
    "       query_start,\n",
    "       state_change\n",
    "FROM pg_stat_activity\n",
    "WHERE datname = 'modisvi'\n",
    "ORDER BY query_start DESC;"
   ]
  }
 ],
 "metadata": {
  "language_info": {
   "name": "python"
  }
 },
 "nbformat": 4,
 "nbformat_minor": 2
}
