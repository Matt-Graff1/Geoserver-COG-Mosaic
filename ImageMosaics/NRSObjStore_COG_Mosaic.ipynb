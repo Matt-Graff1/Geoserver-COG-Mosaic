{
 "cells": [
  {
   "cell_type": "markdown",
   "metadata": {},
   "source": [
    "# GeoServer ImageMosaic Configuration for BC Gov COG Datasets\n",
    "Example COGs from old wildfire data will be used to create an ImageMosaic in GeoServer"
   ]
  },
  {
   "cell_type": "markdown",
   "metadata": {},
   "source": [
    "Requirements:\n",
    "- *PostgreSQL* instance running\n",
    "- *GeoServer* 2.25.0+ running\n",
    "  - COG Plugin (https://docs.geoserver.org/latest/en/user/community/cog/index.html)\n",
    "  - GDAL installed + ImageI/O-Ext (this should be by default)\n",
    "  - A workspace named 'test' is made in GeoServer\n",
    "- Valid granule HTTP links\n",
    "- Python environment (3.8+) with *requests* installed"
   ]
  },
  {
   "cell_type": "markdown",
   "metadata": {},
   "source": [
    "\n",
    "## Step 1: Configuration Files Setup"
   ]
  },
  {
   "cell_type": "markdown",
   "metadata": {},
   "source": [
    "### Choose parameters\n",
    "Set the parameters for the layer and database. The layer_name should match the db_name to avoid potential issues."
   ]
  },
  {
   "cell_type": "code",
   "execution_count": null,
   "metadata": {},
   "outputs": [],
   "source": [
    "layer_name = 'mosaic_nrs' # this *should* be the same as the db_name as it may cause issues if not...\n",
    "db_name = 'mosaic_nrs' # Note: For a PostGIS datastore, it is not needed that the database is already present in the PostGIS instance; it will be created automatically by the ImageMosaic reader.\n",
    "workspace = 'test'\n",
    "\n",
    "pg_user = 'postgres' # Might have to edit these depending on what you chose when setting up PostgreSQL\n",
    "pg_password = 'password'\n",
    "pg_port = '5432' # Default port"
   ]
  },
  {
   "cell_type": "markdown",
   "metadata": {},
   "source": [
    "### Initialize .properties files\n",
    "Create the necessary .properties files for configuring the ImageMosaic."
   ]
  },
  {
   "cell_type": "code",
   "execution_count": null,
   "metadata": {},
   "outputs": [],
   "source": [
    "\n",
    "# indexer.properties\n",
    "indexer_properties = f\"\"\"Cog=true\n",
    "PropertyCollectors=TimestampFileNameExtractorSPI[timeregex](time)\n",
    "TimeAttribute=time\n",
    "Schema=*the_geom:Polygon,location:String,time:java.util.Date\n",
    "CanBeEmpty=true\n",
    "Name={layer_name}\n",
    "MosaicCRS=EPSG:3005 \n",
    "\"\"\"\n",
    "                #? EPSG is BC Albers - change if needed\n",
    "\n",
    "# timeregex.properties\n",
    "timeregex_properties = \"\"\"regex=[0-9]{4}.[0-9]{2}.[0-9]{2},format=yyyy.MM.dd\n",
    "\"\"\"\n",
    "\n",
    "# datastore.properties\n",
    "datastore_properties = f'''user={pg_user}\n",
    "port={pg_port}\n",
    "passwd={pg_password}\n",
    "url=jdbc:postgresql:{db_name}\n",
    "host=localhost\n",
    "database={db_name}\n",
    "driver=org.postgresql.Driver\n",
    "schema=public\n",
    "SPI=org.geotools.data.postgis.PostgisNGDataStoreFactory\n",
    "fetch\\\\ size=1000\n",
    "max\\\\ connections=20\n",
    "min\\\\ connections=5\n",
    "validate\\\\ connections=true\n",
    "Loose\\\\ bbox=true\n",
    "Expose\\\\ primary\\\\ key=false\n",
    "Max\\\\ open\\\\ prepared\\\\ statements=50\n",
    "preparedStatements=false\n",
    "Estimated\\\\ extends=false\n",
    "Connection\\\\ timeout=20\n",
    "'''\n",
    "\n",
    "\n",
    "\n",
    "import zipfile\n",
    "import os\n"
   ]
  },
  {
   "cell_type": "markdown",
   "metadata": {},
   "source": [
    "### Create a zip archive with the configuration files\n",
    "Bundle the .properties files into a single ZIP archive for uploading to GeoServer."
   ]
  },
  {
   "cell_type": "code",
   "execution_count": null,
   "metadata": {},
   "outputs": [],
   "source": [
    "zip_name = f'{layer_name}.zip'\n",
    "\n",
    "with zipfile.ZipFile(zip_name, 'w') as zipf:\n",
    "    with zipf.open('indexer.properties', 'w') as f:\n",
    "        f.write(indexer_properties.encode())\n",
    "    with zipf.open('timeregex.properties', 'w') as f:\n",
    "        f.write(timeregex_properties.encode())\n",
    "    with zipf.open('datastore.properties', 'w') as f:\n",
    "        f.write(datastore_properties.encode())\n"
   ]
  },
  {
   "cell_type": "markdown",
   "metadata": {},
   "source": [
    "## Step 2: REST API Calls to GeoServer\n",
    "Use the GeoServer REST API to configure the ImageMosaic. This involves creating an empty ImageMosaic, providing a prototype dataset, initializing the store, configuring the coverage, and adding more granules."
   ]
  },
  {
   "cell_type": "code",
   "execution_count": null,
   "metadata": {},
   "outputs": [],
   "source": [
    "import requests\n",
    "\n",
    "# Base GeoServer URL and credentials\n",
    "base_url = \"http://localhost:8080/geoserver\"\n",
    "store_name = layer_name\n",
    "user = \"admin\"\n",
    "password = \"geoserver\"\n",
    "\n",
    "# 1. Create an empty ImageMosaic\n",
    "url = f\"{base_url}/rest/workspaces/{workspace}/coveragestores/{store_name}/file.imagemosaic?configure=none\"\n",
    "headers = {\"Content-type\": \"application/zip\"}\n",
    "\n",
    "with open(zip_name, 'rb') as file:\n",
    "    response = requests.put(url, auth=(user, password), headers=headers, data=file)\n",
    "print(f\"Create empty ImageMosaic response: {response.status_code}\")\n"
   ]
  },
  {
   "cell_type": "code",
   "execution_count": null,
   "metadata": {},
   "outputs": [],
   "source": [
    "\n",
    "# 2. Provide a prototype dataset\n",
    "url = f\"{base_url}/rest/workspaces/{workspace}/coveragestores/{store_name}/remote.imagemosaic\"\n",
    "headers = {\"Content-type\": \"text/plain\"}\n",
    "data = \"https://nrs.objectstore.gov.bc.ca/cloudgistest/test/cog_out/granules/2023.07.09.tif\" # Couldn't parse CRS?\n",
    "response = requests.post(url, auth=(user, password), headers=headers, data=data)\n",
    "print(f\"Provide prototype dataset response: {response.status_code}\")\n"
   ]
  },
  {
   "cell_type": "code",
   "execution_count": null,
   "metadata": {},
   "outputs": [],
   "source": [
    "\n",
    "# 3. Initialize the store (Listing available coverages)\n",
    "url = f\"{base_url}/rest/workspaces/{workspace}/coveragestores/{store_name}/coverages.xml?list=all\"\n",
    "response = requests.get(url, auth=(user, password))\n",
    "print(f\"Initialize the store response: {response.status_code}\")\n",
    "print(response.text)\n"
   ]
  },
  {
   "cell_type": "markdown",
   "metadata": {},
   "source": [
    "The output should be:\n",
    "```\n",
    "<list>\n",
    "  <coverageName>(your layer name)</coverageName>\n",
    "</list>\n",
    "```"
   ]
  },
  {
   "cell_type": "code",
   "execution_count": null,
   "metadata": {},
   "outputs": [],
   "source": [
    "#TODO: Tweak this as this is not a time-series mosaic\n",
    "\n",
    "# 4. Configure the coverage\n",
    "coverage_xml = f\"\"\"\n",
    "<coverage>\n",
    "  <name>{layer_name}</name>\n",
    "  <nativeName>{layer_name}</nativeName>\n",
    "  <enabled>true</enabled>\n",
    "  <metadata>\n",
    "    <entry key=\"time\">\n",
    "      <dimensionInfo>\n",
    "        <enabled>true</enabled>\n",
    "        <presentation>LIST</presentation>\n",
    "        <units>ISO8601</units>\n",
    "        <defaultValue>\n",
    "          <strategy>MAXIMUM</strategy>\n",
    "        </defaultValue>\n",
    "      </dimensionInfo>\n",
    "    </entry>\n",
    "  </metadata>\n",
    "</coverage>\n",
    "\"\"\"\n",
    "url = f\"{base_url}/rest/workspaces/{workspace}/coveragestores/{store_name}/coverages\"\n",
    "headers = {\"Content-type\": \"text/xml\"}\n",
    "response = requests.post(url, auth=(user, password), headers=headers, data=coverage_xml)\n",
    "print(f\"Configure the coverage response: {response.status_code}\")\n"
   ]
  },
  {
   "cell_type": "code",
   "execution_count": null,
   "metadata": {},
   "outputs": [],
   "source": [
    "\n",
    "# 5. Add more granules\n",
    "url = f\"{base_url}/rest/workspaces/{workspace}/coveragestores/{store_name}/remote.imagemosaic\"\n",
    "data = \"https://nrs.objectstore.gov.bc.ca/cloudgistest/test/cog_out/granules/2023.07.10.tif\"\n",
    "response = requests.post(url, auth=(user, password), headers=headers, data=data)\n",
    "print(f\"Add more granules response: {response.status_code}\")\n"
   ]
  },
  {
   "cell_type": "code",
   "execution_count": null,
   "metadata": {},
   "outputs": [],
   "source": [
    "# Verify that the ImageMosaic layer exists and get details\n",
    "url = f\"{base_url}/rest/layers/{store_name}.xml\"\n",
    "response = requests.get(url, auth=(user, password))\n",
    "\n",
    "if response.status_code == 200:\n",
    "    print(\"ImageMosaic layer exists.\")\n",
    "    # Print the details of the layer\n",
    "    print(\"Layer details:\")\n",
    "    print(response.text)\n",
    "else:\n",
    "    print(f\"Failed to find the ImageMosaic layer. Status code: {response.status_code}\")\n",
    "\n",
    "# Get details about the granules in the coverage\n",
    "coverage_url = f\"{base_url}/rest/workspaces/{workspace}/coveragestores/{store_name}/coverages.xml\"\n",
    "coverage_response = requests.get(coverage_url, auth=(user, password))\n",
    "\n",
    "if coverage_response.status_code == 200:\n",
    "    print(\"Coverage details:\")\n",
    "    print(coverage_response.text)\n",
    "else:\n",
    "    print(f\"Failed to get coverage details. Status code: {coverage_response.status_code}\")"
   ]
  }
 ],
 "metadata": {
  "kernelspec": {
   "display_name": "stac_tools",
   "language": "python",
   "name": "python3"
  },
  "language_info": {
   "codemirror_mode": {
    "name": "ipython",
    "version": 3
   },
   "file_extension": ".py",
   "mimetype": "text/x-python",
   "name": "python",
   "nbconvert_exporter": "python",
   "pygments_lexer": "ipython3",
   "version": "3.12.2"
  }
 },
 "nbformat": 4,
 "nbformat_minor": 2
}
