{
 "cells": [
  {
   "cell_type": "markdown",
   "metadata": {},
   "source": [
    "# GeoServer ImageMosaic Configuration for MODIS COG Datasets\n",
    "Using MODIS data to create a temporal ImageMosaic, stored on NASA S3 and/or NRS ObjectStore."
   ]
  },
  {
   "cell_type": "markdown",
   "metadata": {},
   "source": [
    "Requirements:\n",
    "- *PostgreSQL* 16 instance running\n",
    "- *GeoServer* 2.25.0+ running\n",
    "  - COG Plugin (https://docs.geoserver.org/latest/en/user/community/cog/index.html)\n",
    "  - GDAL installed + ImageI/O-Ext (this should be by default)\n",
    "  - A workspace named 'test' is made in GeoServer\n",
    "- Valid granule HTTP links\n",
    "- Python environment (3.8+) with *requests* installed\n"
   ]
  },
  {
   "cell_type": "markdown",
   "metadata": {},
   "source": [
    "## Step 1: Configuration Files Setup"
   ]
  },
  {
   "cell_type": "markdown",
   "metadata": {},
   "source": [
    "### Choose parameters\n",
    "Set the parameters for the layer and database. The layer_name should match the db_name to avoid potential issues."
   ]
  },
  {
   "cell_type": "code",
   "execution_count": null,
   "metadata": {},
   "outputs": [],
   "source": [
    "layer_name = 'modisvi_demo'\n",
    "db_name = 'modisvi_demo' # Note: For a PostGIS datastore, it is not needed that the database is already present in the PostGIS instance; it will be created automatically by the ImageMosaic reader.\n",
    "workspace = 'test' #! Create this workspace in GeoServer before running this script"
   ]
  },
  {
   "cell_type": "markdown",
   "metadata": {},
   "source": [
    "### Initialize .properties files\n",
    "Create the necessary .properties files for configuring the ImageMosaic."
   ]
  },
  {
   "cell_type": "code",
   "execution_count": null,
   "metadata": {},
   "outputs": [],
   "source": [
    "\n",
    "# indexer.properties\n",
    "indexer_properties = f\"\"\"Cog=true\n",
    "PropertyCollectors=TimestampFileNameExtractorSPI[timeregex](time)\n",
    "TimeAttribute=time\n",
    "Schema=*the_geom:Polygon,location:String,time:java.util.Date\n",
    "CanBeEmpty=true\n",
    "Name={layer_name}\n",
    "\"\"\"\n",
    "    # in this case, the CRS is automatically detected. but if you want to use BC Albers for another dataset, you have to define the MosaicCRS --> see NRSObjStore_COG_Mosaic.ipynb \n",
    "\n",
    "# timeregex.properties\n",
    "timeregex_properties = \"\"\"regex=[0-9]{4}.[0-9]{2}.[0-9]{2},format=yyyy.MM.dd\n",
    "\"\"\"\n",
    "\n",
    "# datastore.properties\n",
    "datastore_properties = f'''user=postgres\n",
    "port=5432\n",
    "passwd=stac\n",
    "url=jdbc:postgresql:{db_name}\n",
    "host=localhost\n",
    "database={db_name}\n",
    "driver=org.postgresql.Driver\n",
    "schema=public\n",
    "SPI=org.geotools.data.postgis.PostgisNGDataStoreFactory\n",
    "fetch\\\\ size=1000\n",
    "max\\\\ connections=20\n",
    "min\\\\ connections=5\n",
    "validate\\\\ connections=true\n",
    "Loose\\\\ bbox=true\n",
    "Expose\\\\ primary\\\\ key=false\n",
    "Max\\\\ open\\\\ prepared\\\\ statements=50\n",
    "preparedStatements=false\n",
    "Estimated\\\\ extends=false\n",
    "Connection\\\\ timeout=20\n",
    "'''\n",
    "\n",
    "\n",
    "\n",
    "import zipfile\n",
    "import os\n"
   ]
  },
  {
   "cell_type": "markdown",
   "metadata": {},
   "source": [
    "### Create a zip archive with the configuration files\n",
    "Bundle the .properties files into a single ZIP archive for uploading to GeoServer."
   ]
  },
  {
   "cell_type": "code",
   "execution_count": null,
   "metadata": {},
   "outputs": [],
   "source": [
    "zip_name = f'{layer_name}.zip'\n",
    "\n",
    "with zipfile.ZipFile(zip_name, 'w') as zipf:\n",
    "    with zipf.open('indexer.properties', 'w') as f:\n",
    "        f.write(indexer_properties.encode())\n",
    "    with zipf.open('timeregex.properties', 'w') as f:\n",
    "        f.write(timeregex_properties.encode())\n",
    "    with zipf.open('datastore.properties', 'w') as f:\n",
    "        f.write(datastore_properties.encode())\n"
   ]
  },
  {
   "cell_type": "markdown",
   "metadata": {},
   "source": [
    "## Step 2: REST API Calls to GeoServer\n",
    "Use the GeoServer REST API to configure the ImageMosaic. This involves creating an empty ImageMosaic, providing a prototype dataset, initializing the store, configuring the coverage, and adding more granules."
   ]
  },
  {
   "cell_type": "code",
   "execution_count": null,
   "metadata": {},
   "outputs": [],
   "source": [
    "import requests\n",
    "\n",
    "# Base GeoServer URL and credentials\n",
    "base_url = \"http://localhost:8080/geoserver\"\n",
    "store_name = layer_name\n",
    "user = \"admin\"\n",
    "password = \"geoserver\"\n",
    "\n",
    "# 1. Create an empty ImageMosaic\n",
    "url = f\"{base_url}/rest/workspaces/{workspace}/coveragestores/{store_name}/file.imagemosaic?configure=none\"\n",
    "headers = {\"Content-type\": \"application/zip\"}\n",
    "\n",
    "with open(zip_name, 'rb') as file:\n",
    "    response = requests.put(url, auth=(user, password), headers=headers, data=file)\n",
    "print(f\"Create empty ImageMosaic response: {response.status_code}\")\n"
   ]
  },
  {
   "cell_type": "code",
   "execution_count": null,
   "metadata": {},
   "outputs": [],
   "source": [
    "\n",
    "# 2. Provide a prototype dataset\n",
    "url = f\"{base_url}/rest/workspaces/{workspace}/coveragestores/{store_name}/remote.imagemosaic\"\n",
    "headers = {\"Content-type\": \"text/plain\"}\n",
    "data = \"https://modis-vi-nasa.s3-us-west-2.amazonaws.com/MOD13A1.006/2018.01.01.tif\" # NASA host\n",
    "# data = \"https://nrs.objectstore.gov.bc.ca/cloudgistest/test/cog_out/2018.01.01.tif\" # NRS ObjectStore host\n",
    "response = requests.post(url, auth=(user, password), headers=headers, data=data)\n",
    "print(f\"Provide prototype dataset response: {response.status_code}\")\n"
   ]
  },
  {
   "cell_type": "code",
   "execution_count": null,
   "metadata": {},
   "outputs": [],
   "source": [
    "\n",
    "# 3. Initialize the store (Listing available coverages)\n",
    "url = f\"{base_url}/rest/workspaces/{workspace}/coveragestores/{store_name}/coverages.xml?list=all\"\n",
    "response = requests.get(url, auth=(user, password))\n",
    "print(f\"Initialize the store response: {response.status_code}\")\n",
    "print(response.text)\n"
   ]
  },
  {
   "cell_type": "markdown",
   "metadata": {},
   "source": [
    "The output should be:\n",
    "```\n",
    "<list>\n",
    "  <coverageName>modisvi_demo</coverageName>\n",
    "</list>\n",
    "```"
   ]
  },
  {
   "cell_type": "code",
   "execution_count": null,
   "metadata": {},
   "outputs": [],
   "source": [
    "\n",
    "# 4. Configure the coverage\n",
    "coverage_xml = f\"\"\"\n",
    "<coverage>\n",
    "  <name>{layer_name}</name>\n",
    "  <nativeName>{layer_name}</nativeName>\n",
    "  <enabled>true</enabled>\n",
    "  <metadata>\n",
    "    <entry key=\"time\">\n",
    "      <dimensionInfo>\n",
    "        <enabled>true</enabled>\n",
    "        <presentation>LIST</presentation>\n",
    "        <units>ISO8601</units>\n",
    "        <defaultValue>\n",
    "          <strategy>MAXIMUM</strategy>\n",
    "        </defaultValue>\n",
    "      </dimensionInfo>\n",
    "    </entry>\n",
    "  </metadata>\n",
    "</coverage>\n",
    "\"\"\"\n",
    "url = f\"{base_url}/rest/workspaces/{workspace}/coveragestores/{store_name}/coverages\"\n",
    "headers = {\"Content-type\": \"text/xml\"}\n",
    "response = requests.post(url, auth=(user, password), headers=headers, data=coverage_xml)\n",
    "print(f\"Configure the coverage response: {response.status_code}\")\n"
   ]
  },
  {
   "cell_type": "code",
   "execution_count": null,
   "metadata": {},
   "outputs": [],
   "source": [
    "\n",
    "# 5. Add more granules\n",
    "url = f\"{base_url}/rest/workspaces/{workspace}/coveragestores/{store_name}/remote.imagemosaic\"\n",
    "data = \"https://modis-vi-nasa.s3-us-west-2.amazonaws.com/MOD13A1.006/2018.01.17.tif\"\n",
    "response = requests.post(url, auth=(user, password), headers=headers, data=data)\n",
    "print(f\"Add more granules response: {response.status_code}\")\n"
   ]
  },
  {
   "cell_type": "code",
   "execution_count": null,
   "metadata": {},
   "outputs": [],
   "source": [
    "\n",
    "# 6. Setting Style\n",
    "ndvi_sld = \"\"\"\n",
    "<StyledLayerDescriptor xmlns=\"http://www.opengis.net/sld\" xmlns:sld=\"http://www.opengis.net/sld\" xmlns:gml=\"http://www.opengis.net/gml\" xmlns:ogc=\"http://www.opengis.net/ogc\" version=\"1.0.0\">\n",
    "  <NamedLayer>\n",
    "    <Name>Default Styler</Name>\n",
    "    <UserStyle>\n",
    "      <Name>ndvi</Name>\n",
    "      <Title>ndvi</Title>\n",
    "      <FeatureTypeStyle>\n",
    "        <Name>name</Name>\n",
    "        <Rule>\n",
    "          <RasterSymbolizer>\n",
    "            <ChannelSelection>\n",
    "              <GrayChannel>\n",
    "                <SourceChannelName>1</SourceChannelName>\n",
    "              </GrayChannel>\n",
    "            </ChannelSelection>\n",
    "            <ColorMap>\n",
    "              <ColorMapEntry color=\"#000000\" quantity=\"-1\"/>\n",
    "              <ColorMapEntry color=\"#0000ff\" quantity=\"-0.75\"/>\n",
    "              <ColorMapEntry color=\"#ff00ff\" quantity=\"-0.25\"/>\n",
    "              <ColorMapEntry color=\"#ff0000\" quantity=\"0\"/>\n",
    "              <ColorMapEntry color=\"#ffff00\" quantity=\"0.5\"/>\n",
    "              <ColorMapEntry color=\"#00ff00\" quantity=\"1\"/>\n",
    "            </ColorMap>\n",
    "            <ContrastEnhancement/>\n",
    "          </RasterSymbolizer>\n",
    "        </Rule>\n",
    "      </FeatureTypeStyle>\n",
    "    </UserStyle>\n",
    "  </NamedLayer>\n",
    "</StyledLayerDescriptor>\n",
    "\"\"\"\n",
    "with open('ndvi.sld', 'w') as f:\n",
    "    f.write(ndvi_sld)\n",
    "\n",
    "url = f\"{base_url}/rest/styles\"\n",
    "headers = {\"Content-type\": \"application/vnd.ogc.sld+xml\"}\n",
    "\n",
    "with open('ndvi.sld', 'rb') as file:\n",
    "    response = requests.post(url, auth=(user, password), headers=headers, data=file)\n",
    "print(f\"Create the style response: {response.status_code}\")\n"
   ]
  },
  {
   "cell_type": "code",
   "execution_count": null,
   "metadata": {},
   "outputs": [],
   "source": [
    "\n",
    "# 7. Set the style as default style of the layer\n",
    "url = f\"{base_url}/rest/layers/{store_name}.xml\"\n",
    "data = \"<layer><defaultStyle><name>ndvi</name></defaultStyle></layer>\"\n",
    "headers = {\"Content-type\": \"text/xml\"}\n",
    "response = requests.put(url, auth=(user, password), headers=headers, data=data)\n",
    "print(f\"Set default style response: {response.status_code}\")\n"
   ]
  },
  {
   "cell_type": "code",
   "execution_count": null,
   "metadata": {},
   "outputs": [],
   "source": [
    "# Verify that the ImageMosaic layer exists and get details\n",
    "url = f\"{base_url}/rest/layers/{store_name}.xml\"\n",
    "response = requests.get(url, auth=(user, password))\n",
    "\n",
    "if response.status_code == 200:\n",
    "    print(\"ImageMosaic layer exists.\")\n",
    "    # Print the details of the layer\n",
    "    print(\"Layer details:\")\n",
    "    print(response.text)\n",
    "else:\n",
    "    print(f\"Failed to find the ImageMosaic layer. Status code: {response.status_code}\")\n",
    "\n",
    "# Get details about the granules in the coverage\n",
    "coverage_url = f\"{base_url}/rest/workspaces/{workspace}/coveragestores/{store_name}/coverages.xml\"\n",
    "coverage_response = requests.get(coverage_url, auth=(user, password))\n",
    "\n",
    "if coverage_response.status_code == 200:\n",
    "    print(\"Coverage details:\")\n",
    "    print(coverage_response.text)\n",
    "else:\n",
    "    print(f\"Failed to get coverage details. Status code: {coverage_response.status_code}\")"
   ]
  },
  {
   "cell_type": "markdown",
   "metadata": {},
   "source": [
    "Another issue appeared when trying to preview the file: the 'time' column of the dataset was empty. I manually updated it and it worked... \n"
   ]
  }
 ],
 "metadata": {
  "kernelspec": {
   "display_name": "stac_tools",
   "language": "python",
   "name": "python3"
  },
  "language_info": {
   "codemirror_mode": {
    "name": "ipython",
    "version": 3
   },
   "file_extension": ".py",
   "mimetype": "text/x-python",
   "name": "python",
   "nbconvert_exporter": "python",
   "pygments_lexer": "ipython3",
   "version": "3.12.2"
  }
 },
 "nbformat": 4,
 "nbformat_minor": 2
}
