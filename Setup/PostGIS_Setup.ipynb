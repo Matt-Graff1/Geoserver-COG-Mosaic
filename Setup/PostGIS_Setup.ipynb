{
 "cells": [
  {
   "cell_type": "markdown",
   "metadata": {},
   "source": [
    "# Setting up PostGIS for use w/ GeoServer ImageMosaics"
   ]
  },
  {
   "cell_type": "markdown",
   "metadata": {},
   "source": [
    "**NOTE: This section is optional as the ImageMosaic reader creates databases in the correct schema automatically**"
   ]
  },
  {
   "cell_type": "markdown",
   "metadata": {},
   "source": [
    "### Connecting, creating tables in correct schema"
   ]
  },
  {
   "cell_type": "code",
   "execution_count": 7,
   "metadata": {},
   "outputs": [],
   "source": [
    "import psycopg2\n",
    "from psycopg2 import sql\n",
    "\n",
    "conn_params = {\n",
    "    'host': 'localhost',\n",
    "    'user': 'postgres',\n",
    "    'password': 'stac',\n",
    "    'port': '5432'\n",
    "}"
   ]
  },
  {
   "cell_type": "code",
   "execution_count": 8,
   "metadata": {},
   "outputs": [
    {
     "name": "stdout",
     "output_type": "stream",
     "text": [
      "Connected to PostgreSQL server.\n",
      "Database 'py2' created successfully.\n",
      "Connected to the new database 'py2'.\n",
      "PostGIS extension enabled.\n",
      "Connection closed.\n"
     ]
    }
   ],
   "source": [
    "# Connect to PostgreSQL server\n",
    "try:\n",
    "    conn = psycopg2.connect(**conn_params)\n",
    "    conn.autocommit = True\n",
    "    cursor = conn.cursor()\n",
    "    print(\"Connected to PostgreSQL server.\")\n",
    "\n",
    "    # Define the new database name\n",
    "    new_dbname = 'py2'\n",
    "\n",
    "    # Create the new database\n",
    "    cursor.execute(sql.SQL(\"CREATE DATABASE {}\").format(sql.Identifier(new_dbname)))\n",
    "    print(f\"Database '{new_dbname}' created successfully.\")\n",
    "\n",
    "    # Close the initial connection\n",
    "    cursor.close()\n",
    "    conn.close()\n",
    "\n",
    "    # Connect to the new database\n",
    "    conn_params['dbname'] = new_dbname\n",
    "    conn = psycopg2.connect(**conn_params)\n",
    "    cursor = conn.cursor()\n",
    "    print(f\"Connected to the new database '{new_dbname}'.\")\n",
    "\n",
    "    # Enable the PostGIS extension\n",
    "    cursor.execute(\"CREATE EXTENSION postgis;\")\n",
    "    print(\"PostGIS extension enabled.\")\n",
    "\n",
    "    # Close the connection\n",
    "    cursor.close()\n",
    "    conn.close()\n",
    "    print(\"Connection closed.\")\n",
    "\n",
    "except Exception as e:\n",
    "    print(f\"An error occurred: {e}\")\n",
    "\n",
    "finally:\n",
    "    if conn:\n",
    "        cursor.close()\n",
    "        conn.close()"
   ]
  }
 ],
 "metadata": {
  "kernelspec": {
   "display_name": "stac_tools",
   "language": "python",
   "name": "python3"
  },
  "language_info": {
   "codemirror_mode": {
    "name": "ipython",
    "version": 3
   },
   "file_extension": ".py",
   "mimetype": "text/x-python",
   "name": "python",
   "nbconvert_exporter": "python",
   "pygments_lexer": "ipython3",
   "version": "3.12.2"
  }
 },
 "nbformat": 4,
 "nbformat_minor": 2
}
